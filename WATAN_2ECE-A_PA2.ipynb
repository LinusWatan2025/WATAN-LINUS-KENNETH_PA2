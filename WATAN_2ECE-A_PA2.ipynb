{
 "cells": [
  {
   "cell_type": "code",
   "execution_count": 10,
   "id": "72dad076-d214-4ff8-a1f6-c8c45e2ead43",
   "metadata": {
    "scrolled": true
   },
   "outputs": [
    {
     "name": "stdout",
     "output_type": "stream",
     "text": [
      "Original Array (x):\n",
      " [[0.17436643 0.69093774 0.38673535 0.93672999 0.13752094]\n",
      " [0.34106635 0.11347352 0.92469362 0.87733935 0.25794163]\n",
      " [0.65998405 0.8172222  0.55520081 0.52965058 0.24185229]\n",
      " [0.09310277 0.89721576 0.90041806 0.63310146 0.33902979]\n",
      " [0.34920957 0.72595568 0.89711026 0.88708642 0.77987555]]\n",
      "\n",
      "Normalized Array (Z):\n",
      " [[-1.34802725  0.43062118 -0.61680267  1.27692834 -1.47489292]\n",
      " [-0.77404928 -1.55769255  1.23548494  1.07243564 -1.06026273]\n",
      " [ 0.32404202  0.86544141 -0.03674561 -0.12471968 -1.11566123]\n",
      " [-1.62783273  1.1408737   1.15189979  0.2314804  -0.78106152]\n",
      " [-0.74601069  0.55119428  1.14051045  1.10599657  0.73685013]]\n"
     ]
    }
   ],
   "source": [
    "import numpy as np\n",
    "\n",
    "#create a random 5x5 ndarray\n",
    "x = np.random.rand(5, 5)\n",
    "\n",
    "#using syntaxex to compute for mean and standard deviation\n",
    "m = x.mean()\n",
    "s = x.std()\n",
    "\n",
    "#normalize x\n",
    "Z = (x - m) / s\n",
    "\n",
    "#save the normalized array\n",
    "np.save(\"x_normalized.npy\", Z)\n",
    "\n",
    "print(\"Original Array (x):\\n\", x)\n",
    "print(\"\\nNormalized Array (Z):\\n\", Z)"
   ]
  },
  {
   "cell_type": "code",
   "execution_count": 11,
   "id": "356ac11d-7fbc-4c25-8429-9d20b8aa46b2",
   "metadata": {},
   "outputs": [
    {
     "name": "stdout",
     "output_type": "stream",
     "text": [
      "Array with squares of the first 100 positive integers:\n",
      " [[    1     4     9    16    25    36    49    64    81   100]\n",
      " [  121   144   169   196   225   256   289   324   361   400]\n",
      " [  441   484   529   576   625   676   729   784   841   900]\n",
      " [  961  1024  1089  1156  1225  1296  1369  1444  1521  1600]\n",
      " [ 1681  1764  1849  1936  2025  2116  2209  2304  2401  2500]\n",
      " [ 2601  2704  2809  2916  3025  3136  3249  3364  3481  3600]\n",
      " [ 3721  3844  3969  4096  4225  4356  4489  4624  4761  4900]\n",
      " [ 5041  5184  5329  5476  5625  5776  5929  6084  6241  6400]\n",
      " [ 6561  6724  6889  7056  7225  7396  7569  7744  7921  8100]\n",
      " [ 8281  8464  8649  8836  9025  9216  9409  9604  9801 10000]]\n",
      "\n",
      "Divisible by 3:\n",
      " [   9   36   81  144  225  324  441  576  729  900 1089 1296 1521 1764\n",
      " 2025 2304 2601 2916 3249 3600 3969 4356 4761 5184 5625 6084 6561 7056\n",
      " 7569 8100 8649 9216 9801]\n"
     ]
    }
   ],
   "source": [
    "import numpy as np\n",
    "\n",
    "#create an array with the first 100 positive integers\n",
    "n = np.arange(1, 101)\n",
    "\n",
    "#squaring the elements\n",
    "s = n ** 2\n",
    "\n",
    "#reshape into a 10x10 ndarray \n",
    "a = s.reshape(10, 10)\n",
    "\n",
    "#selecting elements divisible by 3. using modulo operator, we check if each element leaves remainder 0 when divided by 3.\n",
    "d = a[a % 3 == 0]\n",
    "\n",
    "#save the result\n",
    "np.save(\"div_by_3.npy\", d)\n",
    "\n",
    "print(\"Array with squares of the first 100 positive integers:\\n\", a)\n",
    "print(\"\\nDivisible by 3:\\n\", d)"
   ]
  }
 ],
 "metadata": {
  "kernelspec": {
   "display_name": "Python [conda env:base] *",
   "language": "python",
   "name": "conda-base-py"
  },
  "language_info": {
   "codemirror_mode": {
    "name": "ipython",
    "version": 3
   },
   "file_extension": ".py",
   "mimetype": "text/x-python",
   "name": "python",
   "nbconvert_exporter": "python",
   "pygments_lexer": "ipython3",
   "version": "3.13.5"
  }
 },
 "nbformat": 4,
 "nbformat_minor": 5
}
